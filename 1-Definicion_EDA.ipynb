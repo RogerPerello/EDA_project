{
 "cells": [
  {
   "cell_type": "markdown",
   "metadata": {},
   "source": [
    "# INFORMACIÓN DEL PROYECTO"
   ]
  },
  {
   "cell_type": "markdown",
   "metadata": {},
   "source": [
    "### TÍTULO"
   ]
  },
  {
   "cell_type": "markdown",
   "metadata": {},
   "source": [
    "Ucrania: pérdidas rusas y el coste de la comida"
   ]
  },
  {
   "cell_type": "markdown",
   "metadata": {},
   "source": [
    "### TEMA"
   ]
  },
  {
   "cell_type": "markdown",
   "metadata": {},
   "source": [
    "Una comparativa de 5 datasets de tamaños variables sobre diversos aspectos de la guerra de Ucrania que tienen que ver con las pérdidas en el bando ruso, los refugiados y el precio de la comida en los puestos locales. El nexo de la mayoría son las fechas."
   ]
  },
  {
   "cell_type": "markdown",
   "metadata": {},
   "source": [
    "### HIPÓTESIS"
   ]
  },
  {
   "cell_type": "markdown",
   "metadata": {},
   "source": [
    "Define aquí lo que será la hipótesis de tu proyecto.\n",
    "Puede que tengas más de una, pero tu proyecto lo harás teniendo una principal hipótesis."
   ]
  },
  {
   "cell_type": "markdown",
   "metadata": {},
   "source": [
    "1) Se espera que el precio de la comida en Ucrania oscile en función del número de refugiados que huyen del país y de la cercanía al frente de los puestos de venta. Asimismo, un peor rendimiento por parte del bando ruso debería animar a los proveedores a vender en el país y aumentar la oferta.\n",
    "\n",
    "Más refugiados, mayor lejanía del frente o más pérdidas rusas = precios más bajos"
   ]
  },
  {
   "cell_type": "markdown",
   "metadata": {},
   "source": [
    "2) Con el paso del tiempo, aumentan las pérdidas materiales rusas y se reducen las pérdidas humanas. Ello puede ser indicativo de una creciente preocupación de la administración rusa por la opinión pública, con lo que, entre otras cosas, usa más drones o artillería y menos tropas terrestres para minimizar la cuenta de bajas.\n",
    "\n",
    "Uso mayor de tropas mecanizadas = uso reducido de soldados rasos = más pérdidas materiales y menos muertos\n",
    "\n",
    "3) El ejército ruso todavía se sirve de mucho material de la Unión Soviética, que, en comparación con el equipamiento moderno, tiende a ser capturado o destruido con mayor frecuencia.\n",
    "\n",
    "Uso de material soviético = más destrucciones y más capturas"
   ]
  },
  {
   "cell_type": "markdown",
   "metadata": {},
   "source": [
    "## OBTENCIÓN DE LOS DATOS"
   ]
  },
  {
   "cell_type": "markdown",
   "metadata": {},
   "source": [
    "### DATASETS Y FUENTES ALTERNATIVAS DE DATOS"
   ]
  },
  {
   "cell_type": "markdown",
   "metadata": {},
   "source": [
    "Incluye aquí una breve descripción del dataset o datasets de los que partirás para poder evaluar tu hipótesis. <br>\n",
    "También incluye el origen de estos datos y su fuente."
   ]
  },
  {
   "cell_type": "markdown",
   "metadata": {},
   "source": [
    "Acumulativo de refugiados ucranianos por fecha y destino (fuente original: API sobre actualizaciones de la guerra de RapidAPI):\n",
    "https://www.kaggle.com/datasets/anuragbantu/ukraine-invasion-refugee-data-2022\n",
    "\n",
    "Precio de la comida en cada mercado de Ucrania por fecha y tipo. He añadido una columna y he apuntado, a mano, la longitud en términos de coordenadas (fuente: Google Maps), ya que es una buena aproximación para calcular la distancia respecto a la frontera este, que es donde se abre el frente (fuente original: Centre for Humanitarian Data de la Oficina de Naciones Unidas para la Coordinación de Asuntos Humanitarios):\n",
    "https://data.humdata.org/dataset/wfp-food-prices-for-ukraine\n",
    "\n",
    "Pérdidas rusas personales por fecha (fuente original: múltiples, ver en Kaggle; entre ellas, el Ejército y el Ministerio de Defensa del Ucrania):\n",
    "https://www.kaggle.com/datasets/piterfm/2022-ukraine-russian-war\n",
    "\n",
    "Pérdidas rusas materiales, según categorías generales, por fecha (fuente original: es el mismo Kaggle que el anterior):\n",
    "https://www.kaggle.com/datasets/piterfm/2022-ukraine-russian-war\n",
    "\n",
    "Pérdidas materiales rusas, incluyendo modelo y fabricante, sin fecha (fuente original: Oryxspioenkop, web alemana de análisis datos de defensa de código abierto e investigación sobre la guerra):\n",
    "https://www.kaggle.com/datasets/piterfm/2022-ukraine-russia-war-equipment-losses-oryx\n"
   ]
  },
  {
   "cell_type": "markdown",
   "metadata": {},
   "source": [
    "Muestra mediante un head() los principales datasets con los que vas a trabajar"
   ]
  },
  {
   "cell_type": "code",
   "execution_count": null,
   "metadata": {},
   "outputs": [],
   "source": [
    "# Refugiados ucranianos (acumulativo) por fecha y destino:\n",
    "\n",
    "import pandas as pd\n",
    "\n",
    "df_refugees = pd.read_csv(r'src\\data\\Refugees.csv')\n",
    "\n",
    "df_refugees = df_refugees[['date', 'country', 'individuals']]\n",
    "\n",
    "df_refugees.head()\n"
   ]
  },
  {
   "cell_type": "code",
   "execution_count": null,
   "metadata": {},
   "outputs": [],
   "source": [
    "# Precio de la comida en cada mercado de Ucrania por fecha y tipo + columna de distancias aproximadas de la frontera este:\n",
    "\n",
    "import datetime\n",
    "\n",
    "df_prices = pd.read_csv(r'src\\data\\Prices.csv', low_memory=False)\n",
    "\n",
    "df_prices = df_prices.drop(index=0)\n",
    "\n",
    "df_prices['date'] = pd.to_datetime(df_prices['date'], exact=False).dt.date\n",
    "\n",
    "start_war = datetime.date(2022, 2, 24)\n",
    "\n",
    "df_prices = df_prices[df_prices['date'] >= start_war]\n",
    "\n",
    "df_prices.reset_index(drop=True, inplace=True)\n",
    "\n",
    "df_prices = df_prices[['date', 'category', 'commodity', 'unit', 'usdprice', 'market']]\n",
    "\n",
    "longitude = {'Kherson': '32.6169° E',\n",
    "                'Dnipropetrovsk': '35.0462° E',\n",
    "                'Vinnytsya': '28.4682° E',\n",
    "                'Zhytomyr': '28.6587° E',\n",
    "                'Poltava': '34.5514° E',\n",
    "                'Mykolayiv': '31.9946° E',\n",
    "                'Kyiv city': '30.5234° E',\n",
    "                'Iv.-Frankivsk': '24.7111° E',\n",
    "                'Volyn': '25.3254° E',\n",
    "                'Zaporizhzhya': '35.1396° E',\n",
    "                'Khmelnytskiy': '26.9871° E',\n",
    "                'Chernivtsi': '25.9358° E',\n",
    "                'Kirovohrad': '32.2623° E',\n",
    "                'Lviv': '24.0297° E',\n",
    "                'Zakarpattya': '22.2879° E',\n",
    "                'Sumy': '34.7981° E',\n",
    "                'Ternopyl': '25.5948° E',\n",
    "                'Odesa': '30.7233° E',\n",
    "                'Cherkasy': '32.0598° E',\n",
    "                'Kyiv': '30.5234° E',\n",
    "                'Rivne': '26.2516° E',\n",
    "                'Chernihiv': '31.2893° E',\n",
    "                'Kharkiv': '36.2304° E',\n",
    "                'Donetsk': '37.8028° E'\n",
    "            }\n",
    "\n",
    "for key, value in longitude.items():\n",
    "    df_prices.loc[df_prices['market'] == key, 'longitude'] = value\n",
    "\n",
    "df_prices.head()\n"
   ]
  },
  {
   "cell_type": "code",
   "execution_count": null,
   "metadata": {},
   "outputs": [],
   "source": [
    "# Pérdidas rusas personales por fecha:\n",
    "\n",
    "df_personnel = pd.read_csv(r'src\\data\\Russia_losses_personnel(date).csv')\n",
    "\n",
    "for index, casualties in enumerate(df_personnel['personnel']):\n",
    "    if index != 0:\n",
    "        previous_index = index - 1\n",
    "        df_personnel.loc[[index], 'absolute personnel'] = int(df_personnel.loc[[index], 'personnel']) - int(df_personnel.loc[[previous_index], 'personnel'])\n",
    "    else:\n",
    "         df_personnel.loc[[index], 'absolute personnel'] = df_personnel.loc[[index], 'personnel']\n",
    "\n",
    "df_personnel = df_personnel[['date', 'absolute personnel', 'personnel']]\n",
    "\n",
    "df_personnel.head()\n"
   ]
  },
  {
   "cell_type": "code",
   "execution_count": null,
   "metadata": {},
   "outputs": [],
   "source": [
    "# Pérdidas rusas materiales, según categorías generales, por fecha:\n",
    "\n",
    "df_equipment = pd.read_csv(r'src\\data\\Russia_losses_equipment(date).csv')\n",
    "\n",
    "df_equipment.drop(columns=['day', 'greatest losses direction'], inplace=True)\n",
    "\n",
    "df_equipment.head()\n"
   ]
  },
  {
   "cell_type": "code",
   "execution_count": null,
   "metadata": {},
   "outputs": [],
   "source": [
    "# Pérdidas materiales rusas (incluye modelo y fabricante), por fecha:\n",
    "\n",
    "df_tech = pd.read_csv(r'src\\data\\Russia_losses_equipment(tech_details).csv')\n",
    "\n",
    "for column in df_tech.columns[4:]:\n",
    "    pd.to_numeric(df_tech[column])\n",
    "\n",
    "df_tech['total captured'] = df_tech[['captured', \n",
    "                                    'captured and destroyed',\n",
    "                                    'captured and stripped',\n",
    "                                    'damaged and captured'\n",
    "                                    ]].sum(axis=1)\n",
    "\n",
    "df_tech['total not captured'] = df_tech[['abandoned', \n",
    "                                        'abandoned and destroyed',\n",
    "                                        'damaged',\n",
    "                                        'damaged and abandoned',\n",
    "                                        'damaged beyond economical repair',\n",
    "                                        'damaged by Bayraktar TB2',\n",
    "                                        'destroyed',\n",
    "                                        'destroyed by Bayraktar TB2',\n",
    "                                        'destroyed by Bayraktar TB2 and Harpoon AShM',\n",
    "                                        'sunk'\n",
    "                                        ]].sum(axis=1)\n",
    "\n",
    "df_tech = df_tech[['equipment', 'model', 'manufacturer', 'losses_total', 'total captured', 'total not captured']]\n",
    "\n",
    "df_tech.head()\n"
   ]
  }
 ],
 "metadata": {
  "kernelspec": {
   "display_name": "Python 3.9.13 ('data_analytics')",
   "language": "python",
   "name": "python3"
  },
  "language_info": {
   "codemirror_mode": {
    "name": "ipython",
    "version": 3
   },
   "file_extension": ".py",
   "mimetype": "text/x-python",
   "name": "python",
   "nbconvert_exporter": "python",
   "pygments_lexer": "ipython3",
   "version": "3.9.13"
  },
  "orig_nbformat": 4,
  "vscode": {
   "interpreter": {
    "hash": "b824bf52cf534a16238dce884e8fdba8cd1853727e048048d6b0b37b0d718f27"
   }
  }
 },
 "nbformat": 4,
 "nbformat_minor": 2
}
