{
 "cells": [
  {
   "cell_type": "code",
   "execution_count": 2,
   "metadata": {},
   "outputs": [],
   "source": [
    "import pandas as pd\n",
    "import datetime\n",
    "from utils.clean_functions import *\n"
   ]
  },
  {
   "cell_type": "markdown",
   "metadata": {},
   "source": [
    "## LIMPIEZA"
   ]
  },
  {
   "cell_type": "markdown",
   "metadata": {},
   "source": [
    "### df_refugees (acumulado de refugiados ucranianos por fecha y destino)"
   ]
  },
  {
   "cell_type": "markdown",
   "metadata": {},
   "source": [
    "- Importo el dataframe i veo que no tiene nulos"
   ]
  },
  {
   "cell_type": "code",
   "execution_count": 3,
   "metadata": {},
   "outputs": [
    {
     "name": "stdout",
     "output_type": "stream",
     "text": [
      "<class 'pandas.core.frame.DataFrame'>\n",
      "RangeIndex: 665 entries, 0 to 664\n",
      "Data columns (total 12 columns):\n",
      " #   Column        Non-Null Count  Dtype  \n",
      "---  ------        --------------  -----  \n",
      " 0   Unnamed: 0    665 non-null    int64  \n",
      " 1   id            665 non-null    object \n",
      " 2   country       665 non-null    object \n",
      " 3   date          665 non-null    object \n",
      " 4   individuals   665 non-null    int64  \n",
      " 5   centroid_lon  665 non-null    float64\n",
      " 6   centroid_lat  665 non-null    float64\n",
      " 7   lat_max       665 non-null    float64\n",
      " 8   lon_max       665 non-null    float64\n",
      " 9   lan_min       665 non-null    float64\n",
      " 10  lon_min       665 non-null    float64\n",
      " 11  source        665 non-null    object \n",
      "dtypes: float64(6), int64(2), object(4)\n",
      "memory usage: 62.5+ KB\n"
     ]
    }
   ],
   "source": [
    "df_refugees = pd.read_csv(r'.\\data\\Refugees.csv')\n",
    "\n",
    "df_refugees.info()\n"
   ]
  },
  {
   "cell_type": "markdown",
   "metadata": {},
   "source": [
    "- Creo una función que convierte la columna de fechas (\"date\") en un datetime ordenado (index_by_datetime) y lo lleva al índice, lo cual me será útil si tengo que unificar tablas\n",
    "- Dejo solo las columnas de país (\"country\") y acumulado de refugiados (\"individuals\")\n"
   ]
  },
  {
   "cell_type": "code",
   "execution_count": 4,
   "metadata": {},
   "outputs": [],
   "source": [
    "index_by_datetime(df_refugees)\n",
    "\n",
    "df_refugees = df_refugees[['country','individuals']]\n"
   ]
  },
  {
   "cell_type": "markdown",
   "metadata": {},
   "source": [
    "- Compruebo que hay varios países que aparecen bastante menos que los demás. Sin embargo, como todavía no he igualado esta tabla a la otra necesaria para la hipótesis (es decir, la de precios), no tengo claro qué meses voy a necesitar ni qué días de esos meses serán el mejor punto de referencia (por aparecer en la otra tabla). Por tanto, de momento, los dejo todos"
   ]
  },
  {
   "cell_type": "code",
   "execution_count": 5,
   "metadata": {},
   "outputs": [
    {
     "data": {
      "text/plain": [
       "Hungary                     106\n",
       "Slovakia                    105\n",
       "Poland                      102\n",
       "Republic of Moldova         102\n",
       "Romania                      93\n",
       "Belarus                      76\n",
       "Russian Federation           70\n",
       "Other European countries     11\n",
       "Name: country, dtype: int64"
      ]
     },
     "execution_count": 5,
     "metadata": {},
     "output_type": "execute_result"
    }
   ],
   "source": [
    "df_refugees['country'].value_counts()\n"
   ]
  },
  {
   "cell_type": "markdown",
   "metadata": {},
   "source": [
    "- Resultado:"
   ]
  },
  {
   "cell_type": "code",
   "execution_count": 6,
   "metadata": {},
   "outputs": [
    {
     "data": {
      "text/html": [
       "<div>\n",
       "<style scoped>\n",
       "    .dataframe tbody tr th:only-of-type {\n",
       "        vertical-align: middle;\n",
       "    }\n",
       "\n",
       "    .dataframe tbody tr th {\n",
       "        vertical-align: top;\n",
       "    }\n",
       "\n",
       "    .dataframe thead th {\n",
       "        text-align: right;\n",
       "    }\n",
       "</style>\n",
       "<table border=\"1\" class=\"dataframe\">\n",
       "  <thead>\n",
       "    <tr style=\"text-align: right;\">\n",
       "      <th></th>\n",
       "      <th>country</th>\n",
       "      <th>individuals</th>\n",
       "    </tr>\n",
       "    <tr>\n",
       "      <th>date</th>\n",
       "      <th></th>\n",
       "      <th></th>\n",
       "    </tr>\n",
       "  </thead>\n",
       "  <tbody>\n",
       "    <tr>\n",
       "      <th>2022-03-01</th>\n",
       "      <td>Belarus</td>\n",
       "      <td>341</td>\n",
       "    </tr>\n",
       "    <tr>\n",
       "      <th>2022-03-01</th>\n",
       "      <td>Poland</td>\n",
       "      <td>453982</td>\n",
       "    </tr>\n",
       "    <tr>\n",
       "      <th>2022-03-01</th>\n",
       "      <td>Hungary</td>\n",
       "      <td>116348</td>\n",
       "    </tr>\n",
       "    <tr>\n",
       "      <th>2022-03-01</th>\n",
       "      <td>Republic of Moldova</td>\n",
       "      <td>79315</td>\n",
       "    </tr>\n",
       "    <tr>\n",
       "      <th>2022-03-01</th>\n",
       "      <td>Russian Federation</td>\n",
       "      <td>42900</td>\n",
       "    </tr>\n",
       "  </tbody>\n",
       "</table>\n",
       "</div>"
      ],
      "text/plain": [
       "                        country  individuals\n",
       "date                                        \n",
       "2022-03-01              Belarus          341\n",
       "2022-03-01               Poland       453982\n",
       "2022-03-01              Hungary       116348\n",
       "2022-03-01  Republic of Moldova        79315\n",
       "2022-03-01   Russian Federation        42900"
      ]
     },
     "execution_count": 6,
     "metadata": {},
     "output_type": "execute_result"
    }
   ],
   "source": [
    "df_refugees.head()\n"
   ]
  },
  {
   "cell_type": "markdown",
   "metadata": {},
   "source": [
    "### df_prices (precios en cada mercado de Ucrania por fecha, tipo y longitud Este)"
   ]
  },
  {
   "cell_type": "markdown",
   "metadata": {},
   "source": [
    "- Importo el dataframe y veo que hay algunos nulos"
   ]
  },
  {
   "cell_type": "code",
   "execution_count": 7,
   "metadata": {},
   "outputs": [
    {
     "name": "stdout",
     "output_type": "stream",
     "text": [
      "<class 'pandas.core.frame.DataFrame'>\n",
      "RangeIndex: 70731 entries, 0 to 70730\n",
      "Data columns (total 14 columns):\n",
      " #   Column     Non-Null Count  Dtype \n",
      "---  ------     --------------  ----- \n",
      " 0   date       70731 non-null  object\n",
      " 1   admin1     69685 non-null  object\n",
      " 2   admin2     69685 non-null  object\n",
      " 3   market     70731 non-null  object\n",
      " 4   latitude   69685 non-null  object\n",
      " 5   longitude  69685 non-null  object\n",
      " 6   category   70731 non-null  object\n",
      " 7   commodity  70731 non-null  object\n",
      " 8   unit       70731 non-null  object\n",
      " 9   priceflag  70731 non-null  object\n",
      " 10  pricetype  70731 non-null  object\n",
      " 11  currency   70731 non-null  object\n",
      " 12  price      70731 non-null  object\n",
      " 13  usdprice   70731 non-null  object\n",
      "dtypes: object(14)\n",
      "memory usage: 7.6+ MB\n"
     ]
    }
   ],
   "source": [
    "df_prices = pd.read_csv(r'.\\data\\Prices.csv', low_memory=False)\n",
    "\n",
    "df_prices.info()\n"
   ]
  },
  {
   "cell_type": "markdown",
   "metadata": {},
   "source": [
    "- Al mirar la cabecera de la tabla, y teniendo en cuenta que hay el mismo número de nulos en \"admin1\", \"admin2\", \"latitude\" y \"longitude\", salta a la vista que probablemente correspondan todos al valor de \"market\" llamado \"National Average\". Esa media no me interesa para el análisis"
   ]
  },
  {
   "cell_type": "code",
   "execution_count": 8,
   "metadata": {},
   "outputs": [
    {
     "data": {
      "text/html": [
       "<div>\n",
       "<style scoped>\n",
       "    .dataframe tbody tr th:only-of-type {\n",
       "        vertical-align: middle;\n",
       "    }\n",
       "\n",
       "    .dataframe tbody tr th {\n",
       "        vertical-align: top;\n",
       "    }\n",
       "\n",
       "    .dataframe thead th {\n",
       "        text-align: right;\n",
       "    }\n",
       "</style>\n",
       "<table border=\"1\" class=\"dataframe\">\n",
       "  <thead>\n",
       "    <tr style=\"text-align: right;\">\n",
       "      <th></th>\n",
       "      <th>date</th>\n",
       "      <th>admin1</th>\n",
       "      <th>admin2</th>\n",
       "      <th>market</th>\n",
       "      <th>latitude</th>\n",
       "      <th>longitude</th>\n",
       "      <th>category</th>\n",
       "      <th>commodity</th>\n",
       "      <th>unit</th>\n",
       "      <th>priceflag</th>\n",
       "      <th>pricetype</th>\n",
       "      <th>currency</th>\n",
       "      <th>price</th>\n",
       "      <th>usdprice</th>\n",
       "    </tr>\n",
       "  </thead>\n",
       "  <tbody>\n",
       "    <tr>\n",
       "      <th>0</th>\n",
       "      <td>#date</td>\n",
       "      <td>#adm1+name</td>\n",
       "      <td>#adm2+name</td>\n",
       "      <td>#loc+market+name</td>\n",
       "      <td>#geo+lat</td>\n",
       "      <td>#geo+lon</td>\n",
       "      <td>#item+type</td>\n",
       "      <td>#item+name</td>\n",
       "      <td>#item+unit</td>\n",
       "      <td>#item+price+flag</td>\n",
       "      <td>#item+price+type</td>\n",
       "      <td>#currency</td>\n",
       "      <td>#value</td>\n",
       "      <td>#value+usd</td>\n",
       "    </tr>\n",
       "    <tr>\n",
       "      <th>1</th>\n",
       "      <td>2014-03-15</td>\n",
       "      <td>NaN</td>\n",
       "      <td>NaN</td>\n",
       "      <td>National Average</td>\n",
       "      <td>NaN</td>\n",
       "      <td>NaN</td>\n",
       "      <td>cereals and tubers</td>\n",
       "      <td>Bread (rye)</td>\n",
       "      <td>Loaf</td>\n",
       "      <td>actual</td>\n",
       "      <td>Retail</td>\n",
       "      <td>UAH</td>\n",
       "      <td>4.96</td>\n",
       "      <td>0.135</td>\n",
       "    </tr>\n",
       "    <tr>\n",
       "      <th>2</th>\n",
       "      <td>2014-03-15</td>\n",
       "      <td>NaN</td>\n",
       "      <td>NaN</td>\n",
       "      <td>National Average</td>\n",
       "      <td>NaN</td>\n",
       "      <td>NaN</td>\n",
       "      <td>cereals and tubers</td>\n",
       "      <td>Bread (wheat)</td>\n",
       "      <td>Loaf</td>\n",
       "      <td>actual</td>\n",
       "      <td>Retail</td>\n",
       "      <td>UAH</td>\n",
       "      <td>4.84</td>\n",
       "      <td>0.1318</td>\n",
       "    </tr>\n",
       "    <tr>\n",
       "      <th>3</th>\n",
       "      <td>2014-03-15</td>\n",
       "      <td>NaN</td>\n",
       "      <td>NaN</td>\n",
       "      <td>National Average</td>\n",
       "      <td>NaN</td>\n",
       "      <td>NaN</td>\n",
       "      <td>cereals and tubers</td>\n",
       "      <td>Buckwheat grits</td>\n",
       "      <td>KG</td>\n",
       "      <td>actual</td>\n",
       "      <td>Retail</td>\n",
       "      <td>UAH</td>\n",
       "      <td>7.44</td>\n",
       "      <td>0.2026</td>\n",
       "    </tr>\n",
       "    <tr>\n",
       "      <th>4</th>\n",
       "      <td>2014-03-15</td>\n",
       "      <td>NaN</td>\n",
       "      <td>NaN</td>\n",
       "      <td>National Average</td>\n",
       "      <td>NaN</td>\n",
       "      <td>NaN</td>\n",
       "      <td>cereals and tubers</td>\n",
       "      <td>Potatoes</td>\n",
       "      <td>KG</td>\n",
       "      <td>actual</td>\n",
       "      <td>Retail</td>\n",
       "      <td>UAH</td>\n",
       "      <td>6.74</td>\n",
       "      <td>0.1835</td>\n",
       "    </tr>\n",
       "  </tbody>\n",
       "</table>\n",
       "</div>"
      ],
      "text/plain": [
       "         date      admin1      admin2            market  latitude longitude  \\\n",
       "0       #date  #adm1+name  #adm2+name  #loc+market+name  #geo+lat  #geo+lon   \n",
       "1  2014-03-15         NaN         NaN  National Average       NaN       NaN   \n",
       "2  2014-03-15         NaN         NaN  National Average       NaN       NaN   \n",
       "3  2014-03-15         NaN         NaN  National Average       NaN       NaN   \n",
       "4  2014-03-15         NaN         NaN  National Average       NaN       NaN   \n",
       "\n",
       "             category        commodity        unit         priceflag  \\\n",
       "0          #item+type       #item+name  #item+unit  #item+price+flag   \n",
       "1  cereals and tubers      Bread (rye)        Loaf            actual   \n",
       "2  cereals and tubers    Bread (wheat)        Loaf            actual   \n",
       "3  cereals and tubers  Buckwheat grits          KG            actual   \n",
       "4  cereals and tubers         Potatoes          KG            actual   \n",
       "\n",
       "          pricetype   currency   price    usdprice  \n",
       "0  #item+price+type  #currency  #value  #value+usd  \n",
       "1            Retail        UAH    4.96       0.135  \n",
       "2            Retail        UAH    4.84      0.1318  \n",
       "3            Retail        UAH    7.44      0.2026  \n",
       "4            Retail        UAH    6.74      0.1835  "
      ]
     },
     "execution_count": 8,
     "metadata": {},
     "output_type": "execute_result"
    }
   ],
   "source": [
    "df_prices.head()\n"
   ]
  },
  {
   "cell_type": "markdown",
   "metadata": {},
   "source": [
    "- Elimino el índice 0, puramente explicativo\n",
    "- Elimino todas las filas donde el mercado sea, en realidad, la media nacional (\"National Average\")\n",
    "- Cambio a numéricas las columnas \"longitude\" y \"usdprice\"\n",
    "- Aplico la función que me pone la fecha en el índice (index_by_datetime)"
   ]
  },
  {
   "cell_type": "code",
   "execution_count": 10,
   "metadata": {},
   "outputs": [],
   "source": [
    "df_prices = df_prices.drop(index=0)\n",
    "df_prices = df_prices[df_prices['market'] != 'National Average']\n",
    "\n",
    "df_prices[['usdprice', 'longitude']] = df_prices[['usdprice', 'longitude']].apply(pd.to_numeric, errors='coerce', axis=1)\n",
    "\n",
    "index_by_datetime(df_prices)\n"
   ]
  },
  {
   "cell_type": "markdown",
   "metadata": {},
   "source": [
    "- Limito el dataframe al período de la guerra con Russia"
   ]
  },
  {
   "cell_type": "code",
   "execution_count": 12,
   "metadata": {},
   "outputs": [],
   "source": [
    "start_war = datetime.datetime(2022, 2, 24, 0, 0, 0)\n",
    "df_prices = df_prices[df_prices.index >= start_war]\n"
   ]
  },
  {
   "cell_type": "markdown",
   "metadata": {},
   "source": [
    "- Reduzco el dataframe a las columnas que me interesan para la hipótesis"
   ]
  },
  {
   "cell_type": "code",
   "execution_count": 13,
   "metadata": {},
   "outputs": [],
   "source": [
    "df_prices = df_prices[['usdprice', 'market', 'commodity', 'longitude']]\n"
   ]
  },
  {
   "cell_type": "markdown",
   "metadata": {},
   "source": [
    "Ahora debo elegir qué productos (en \"commodity\") me servirán para comparar las oscilaciones de precios en función de las bajas, los refugiados o la lejanía al frente. A ver qué opciones hay"
   ]
  },
  {
   "cell_type": "code",
   "execution_count": 14,
   "metadata": {},
   "outputs": [
    {
     "data": {
      "text/plain": [
       "Wheat flour                          156\n",
       "Rice                                 155\n",
       "Buckwheat                            151\n",
       "Sugar                                150\n",
       "Antipyretic (local)                  150\n",
       "Potatoes                             150\n",
       "Fuel (petrol-gasoline, 92 octane)    149\n",
       "Meat (beef)                          149\n",
       "Vasodilating agents (imported)       148\n",
       "Antipyretic (imported)               148\n",
       "Millet                               148\n",
       "Oil (sunflower)                      147\n",
       "Carrots                              147\n",
       "Onions                               147\n",
       "Meat (chicken, fillet)               147\n",
       "Fuel (diesel)                        146\n",
       "Curd                                 145\n",
       "Fat (salo)                           145\n",
       "Fuel (petrol-gasoline, 95 octane)    145\n",
       "Meat (pork)                          145\n",
       "Semolina                             144\n",
       "Pasta                                144\n",
       "Cabbage                              144\n",
       "Milk                                 144\n",
       "Barley                               143\n",
       "Bread (high grade flour)             143\n",
       "Sour cream                           143\n",
       "Antibiotics (local)                  143\n",
       "Bread (first grade flour)            143\n",
       "Meat (mixed, sausage)                142\n",
       "Fuel (LPG)                           142\n",
       "Butter                               142\n",
       "Fish (frozen)                        142\n",
       "Eggs                                 141\n",
       "Meat (chicken, whole)                141\n",
       "Beetroots                            141\n",
       "Bread (wheat)                        141\n",
       "Apples                               140\n",
       "Transport (public)                   139\n",
       "Bread (rye)                          138\n",
       "Vasodilating agents (local)          138\n",
       "Antibiotics (imported)               138\n",
       "Name: commodity, dtype: int64"
      ]
     },
     "execution_count": 14,
     "metadata": {},
     "output_type": "execute_result"
    }
   ],
   "source": [
    "df_prices.commodity.value_counts()\n"
   ]
  },
  {
   "cell_type": "markdown",
   "metadata": {},
   "source": [
    "- Noto que los medicamentos vienen en 3 tipos (antibióticos, antipiréticos y agentes vasodilatadores), y que los tres pueden ser locales o importados, lo cual me ofrece dos dimensiones más para comparar. Además, como en la guerra suele haber más heridos que en períodos de paz, será más probable que se vean afectados en caso de encontrarse un mercado en zona de conflicto. Así pues, elijo conservar los medicamentos para mi tabla"
   ]
  },
  {
   "cell_type": "code",
   "execution_count": 15,
   "metadata": {},
   "outputs": [],
   "source": [
    "df_prices = df_prices[(df_prices['commodity'].str.contains('imported')) |(df_prices['commodity'].str.contains('local'))]\n"
   ]
  },
  {
   "cell_type": "markdown",
   "metadata": {},
   "source": [
    "- Resultado:"
   ]
  },
  {
   "cell_type": "code",
   "execution_count": 16,
   "metadata": {},
   "outputs": [
    {
     "data": {
      "text/html": [
       "<div>\n",
       "<style scoped>\n",
       "    .dataframe tbody tr th:only-of-type {\n",
       "        vertical-align: middle;\n",
       "    }\n",
       "\n",
       "    .dataframe tbody tr th {\n",
       "        vertical-align: top;\n",
       "    }\n",
       "\n",
       "    .dataframe thead th {\n",
       "        text-align: right;\n",
       "    }\n",
       "</style>\n",
       "<table border=\"1\" class=\"dataframe\">\n",
       "  <thead>\n",
       "    <tr style=\"text-align: right;\">\n",
       "      <th></th>\n",
       "      <th>usdprice</th>\n",
       "      <th>market</th>\n",
       "      <th>commodity</th>\n",
       "      <th>longitude</th>\n",
       "    </tr>\n",
       "    <tr>\n",
       "      <th>date</th>\n",
       "      <th></th>\n",
       "      <th></th>\n",
       "      <th></th>\n",
       "      <th></th>\n",
       "    </tr>\n",
       "  </thead>\n",
       "  <tbody>\n",
       "    <tr>\n",
       "      <th>2022-03-15</th>\n",
       "      <td>4.8148</td>\n",
       "      <td>Rivne</td>\n",
       "      <td>Antibiotics (imported)</td>\n",
       "      <td>26.251617</td>\n",
       "    </tr>\n",
       "    <tr>\n",
       "      <th>2022-03-15</th>\n",
       "      <td>1.0399</td>\n",
       "      <td>Rivne</td>\n",
       "      <td>Antibiotics (local)</td>\n",
       "      <td>26.251617</td>\n",
       "    </tr>\n",
       "    <tr>\n",
       "      <th>2022-03-15</th>\n",
       "      <td>0.4625</td>\n",
       "      <td>Rivne</td>\n",
       "      <td>Antipyretic (local)</td>\n",
       "      <td>26.251617</td>\n",
       "    </tr>\n",
       "    <tr>\n",
       "      <th>2022-03-15</th>\n",
       "      <td>0.3667</td>\n",
       "      <td>Rivne</td>\n",
       "      <td>Vasodilating agents (local)</td>\n",
       "      <td>26.251617</td>\n",
       "    </tr>\n",
       "    <tr>\n",
       "      <th>2022-03-15</th>\n",
       "      <td>1.5907</td>\n",
       "      <td>Rivne</td>\n",
       "      <td>Vasodilating agents (imported)</td>\n",
       "      <td>26.251617</td>\n",
       "    </tr>\n",
       "  </tbody>\n",
       "</table>\n",
       "</div>"
      ],
      "text/plain": [
       "            usdprice market                       commodity  longitude\n",
       "date                                                                  \n",
       "2022-03-15    4.8148  Rivne          Antibiotics (imported)  26.251617\n",
       "2022-03-15    1.0399  Rivne             Antibiotics (local)  26.251617\n",
       "2022-03-15    0.4625  Rivne             Antipyretic (local)  26.251617\n",
       "2022-03-15    0.3667  Rivne     Vasodilating agents (local)  26.251617\n",
       "2022-03-15    1.5907  Rivne  Vasodilating agents (imported)  26.251617"
      ]
     },
     "execution_count": 16,
     "metadata": {},
     "output_type": "execute_result"
    }
   ],
   "source": [
    "df_prices.head()\n"
   ]
  },
  {
   "cell_type": "markdown",
   "metadata": {},
   "source": [
    "### df_personnel (pérdidas rusas personales por fecha)"
   ]
  },
  {
   "cell_type": "markdown",
   "metadata": {},
   "source": [
    "- Importo el dataframe y veo que hay algunos nulos"
   ]
  },
  {
   "cell_type": "code",
   "execution_count": 17,
   "metadata": {},
   "outputs": [
    {
     "name": "stdout",
     "output_type": "stream",
     "text": [
      "<class 'pandas.core.frame.DataFrame'>\n",
      "RangeIndex: 258 entries, 0 to 257\n",
      "Data columns (total 5 columns):\n",
      " #   Column      Non-Null Count  Dtype  \n",
      "---  ------      --------------  -----  \n",
      " 0   date        258 non-null    object \n",
      " 1   day         258 non-null    int64  \n",
      " 2   personnel   258 non-null    int64  \n",
      " 3   personnel*  258 non-null    object \n",
      " 4   POW         62 non-null     float64\n",
      "dtypes: float64(1), int64(2), object(2)\n",
      "memory usage: 10.2+ KB\n"
     ]
    }
   ],
   "source": [
    "df_personnel = pd.read_csv(r'.\\data\\Russia_losses_personnel(date).csv')\n",
    "\n",
    "df_personnel.info()\n"
   ]
  },
  {
   "cell_type": "markdown",
   "metadata": {},
   "source": [
    "La columna de prisioneros de guerra (\"POW\") no me es útil para el análisis, y las de \"personnel*\" y \"day\", tampoco. Las elimino"
   ]
  },
  {
   "cell_type": "code",
   "execution_count": 18,
   "metadata": {},
   "outputs": [],
   "source": [
    "df_personnel = df_personnel[['date', 'personnel']]\n"
   ]
  },
  {
   "cell_type": "markdown",
   "metadata": {},
   "source": [
    "- Creo una función que me permite convertir columnas de valores acumulados en valores absolutos (decumulate_columns), y se la aplico a \"personnel\"\n",
    "- Utilizo, una vez más, la función que pasa la fecha al índice en forma de datetime (index_by_datetime)"
   ]
  },
  {
   "cell_type": "code",
   "execution_count": 19,
   "metadata": {},
   "outputs": [],
   "source": [
    "decumulate_columns(df_personnel, excluded=['date'])\n",
    "index_by_datetime(df_personnel)\n"
   ]
  },
  {
   "cell_type": "markdown",
   "metadata": {},
   "source": [
    "- Resultado:"
   ]
  },
  {
   "cell_type": "code",
   "execution_count": 20,
   "metadata": {},
   "outputs": [
    {
     "data": {
      "text/html": [
       "<div>\n",
       "<style scoped>\n",
       "    .dataframe tbody tr th:only-of-type {\n",
       "        vertical-align: middle;\n",
       "    }\n",
       "\n",
       "    .dataframe tbody tr th {\n",
       "        vertical-align: top;\n",
       "    }\n",
       "\n",
       "    .dataframe thead th {\n",
       "        text-align: right;\n",
       "    }\n",
       "</style>\n",
       "<table border=\"1\" class=\"dataframe\">\n",
       "  <thead>\n",
       "    <tr style=\"text-align: right;\">\n",
       "      <th></th>\n",
       "      <th>personnel</th>\n",
       "    </tr>\n",
       "    <tr>\n",
       "      <th>date</th>\n",
       "      <th></th>\n",
       "    </tr>\n",
       "  </thead>\n",
       "  <tbody>\n",
       "    <tr>\n",
       "      <th>2022-02-25</th>\n",
       "      <td>2800</td>\n",
       "    </tr>\n",
       "    <tr>\n",
       "      <th>2022-02-26</th>\n",
       "      <td>1500</td>\n",
       "    </tr>\n",
       "    <tr>\n",
       "      <th>2022-02-27</th>\n",
       "      <td>200</td>\n",
       "    </tr>\n",
       "    <tr>\n",
       "      <th>2022-02-28</th>\n",
       "      <td>800</td>\n",
       "    </tr>\n",
       "    <tr>\n",
       "      <th>2022-03-01</th>\n",
       "      <td>410</td>\n",
       "    </tr>\n",
       "  </tbody>\n",
       "</table>\n",
       "</div>"
      ],
      "text/plain": [
       "            personnel\n",
       "date                 \n",
       "2022-02-25       2800\n",
       "2022-02-26       1500\n",
       "2022-02-27        200\n",
       "2022-02-28        800\n",
       "2022-03-01        410"
      ]
     },
     "execution_count": 20,
     "metadata": {},
     "output_type": "execute_result"
    }
   ],
   "source": [
    "df_personnel.head()\n"
   ]
  },
  {
   "cell_type": "markdown",
   "metadata": {},
   "source": [
    "### df_equipment (pérdidas rusas materiales, según categorías generales, por fecha)"
   ]
  },
  {
   "cell_type": "markdown",
   "metadata": {},
   "source": [
    "- Importo el dataframe y veo que hay nulos en demasía"
   ]
  },
  {
   "cell_type": "code",
   "execution_count": 21,
   "metadata": {},
   "outputs": [
    {
     "name": "stdout",
     "output_type": "stream",
     "text": [
      "<class 'pandas.core.frame.DataFrame'>\n",
      "RangeIndex: 258 entries, 0 to 257\n",
      "Data columns (total 18 columns):\n",
      " #   Column                     Non-Null Count  Dtype  \n",
      "---  ------                     --------------  -----  \n",
      " 0   date                       258 non-null    object \n",
      " 1   day                        258 non-null    int64  \n",
      " 2   aircraft                   258 non-null    int64  \n",
      " 3   helicopter                 258 non-null    int64  \n",
      " 4   tank                       258 non-null    int64  \n",
      " 5   APC                        258 non-null    int64  \n",
      " 6   field artillery            258 non-null    int64  \n",
      " 7   MRL                        258 non-null    int64  \n",
      " 8   military auto              65 non-null     float64\n",
      " 9   fuel tank                  65 non-null     float64\n",
      " 10  drone                      258 non-null    int64  \n",
      " 11  naval ship                 258 non-null    int64  \n",
      " 12  anti-aircraft warfare      258 non-null    int64  \n",
      " 13  special equipment          239 non-null    float64\n",
      " 14  mobile SRBM system         36 non-null     float64\n",
      " 15  greatest losses direction  182 non-null    object \n",
      " 16  vehicles and fuel tanks    193 non-null    float64\n",
      " 17  cruise missiles            193 non-null    float64\n",
      "dtypes: float64(6), int64(10), object(2)\n",
      "memory usage: 36.4+ KB\n"
     ]
    }
   ],
   "source": [
    "df_equipment = pd.read_csv(r'.\\data\\Russia_losses_equipment(date).csv')\n",
    "\n",
    "df_equipment.info()\n"
   ]
  },
  {
   "cell_type": "markdown",
   "metadata": {},
   "source": [
    "Vamos a ver como se distribuyen los nulos en porcentaje"
   ]
  },
  {
   "cell_type": "code",
   "execution_count": 22,
   "metadata": {},
   "outputs": [
    {
     "data": {
      "text/plain": [
       "mobile SRBM system           86.046512\n",
       "fuel tank                    74.806202\n",
       "military auto                74.806202\n",
       "greatest losses direction    29.457364\n",
       "vehicles and fuel tanks      25.193798\n",
       "cruise missiles              25.193798\n",
       "special equipment             7.364341\n",
       "field artillery               0.000000\n",
       "MRL                           0.000000\n",
       "APC                           0.000000\n",
       "day                           0.000000\n",
       "drone                         0.000000\n",
       "naval ship                    0.000000\n",
       "anti-aircraft warfare         0.000000\n",
       "tank                          0.000000\n",
       "helicopter                    0.000000\n",
       "aircraft                      0.000000\n",
       "date                          0.000000\n",
       "dtype: float64"
      ]
     },
     "execution_count": 22,
     "metadata": {},
     "output_type": "execute_result"
    }
   ],
   "source": [
    "((df_equipment.isnull().sum() / len(df_equipment))*100).sort_values(ascending = False)\n"
   ]
  },
  {
   "cell_type": "markdown",
   "metadata": {},
   "source": [
    "Una pequeña investigación me permite clasificar qué hay exactamente en las columnas de nulos. A parte de las columnas \"greatest losses direction\" y \"day\", que no las necesitamos porque no son sobre equipamiento, vemos que:\n",
    "- Las columnas \"military auto\", \"fuel tank\" y \"mobile SRBM system\" están demasiado incompletas como para que tenga sentido usarlas, así que no hace falta darles más vueltas. Se eliminan\n",
    "- \"Vehicles and fuel tanks\" puede no considerarse material de guerra al uso (fuel tanks no son tanques como se entendería en este contexto, sino meros silos de combustible), así que la quito\n",
    "- \"Cruise missile\" es misil guiado en español. Es razonable considerarlo un tipo de munición pesada más que una arma en sí. Además, será destruido tanto si tiene éxito en su cometido como si no. Su comportamiento anómalo solo servirá para desvirtuar la tabla incluso tras una interpolación de los valores que contiene. Borro la columna\n",
    "- Solo queda \"special equiment\". Podríamos rellenar los nulos de esta columna con la media/mediana y salvarla, ya que no son tantos, pero es mejor deshacerse de ella. La razón es que ni el propio creador del dataset en kaggle tiene claro qué contiene (si bien intuye que se trata de cosas como radios o misiles: https://www.kaggle.com/datasets/piterfm/2022-ukraine-russian-war/discussion/316981). Si la teoría del autor es correcta, y contiene misiles, es similar a la columna \"Cruise missile\" que hemos visto en el punto anterior, por lo que conviene darle el mismo trato"
   ]
  },
  {
   "cell_type": "code",
   "execution_count": 23,
   "metadata": {},
   "outputs": [],
   "source": [
    "df_equipment.dropna(axis=1, inplace=True)\n",
    "df_equipment.drop(columns=['day'], inplace=True)\n"
   ]
  },
  {
   "cell_type": "markdown",
   "metadata": {},
   "source": [
    "- Desacumulo las columnas (decumulate_columns) y llevo la fecha al índice (index_by_datetime)\n",
    "- Añado una columna con la suma de los equipamientos\n"
   ]
  },
  {
   "cell_type": "code",
   "execution_count": 24,
   "metadata": {},
   "outputs": [],
   "source": [
    "decumulate_columns(df_equipment, excluded=['date'])\n",
    "index_by_datetime(df_equipment)\n",
    "\n",
    "df_equipment['total losses'] = df_equipment[['aircraft', \n",
    "                                        'helicopter',\n",
    "                                        'tank',\n",
    "                                        'APC',\n",
    "                                        'field artillery',\n",
    "                                        'MRL',\n",
    "                                        'drone',\n",
    "                                        'naval ship',\n",
    "                                        'anti-aircraft warfare'\n",
    "                                        ]].sum(axis=1)\n"
   ]
  },
  {
   "cell_type": "markdown",
   "metadata": {},
   "source": [
    "- Resultado:"
   ]
  },
  {
   "cell_type": "code",
   "execution_count": 25,
   "metadata": {},
   "outputs": [
    {
     "data": {
      "text/html": [
       "<div>\n",
       "<style scoped>\n",
       "    .dataframe tbody tr th:only-of-type {\n",
       "        vertical-align: middle;\n",
       "    }\n",
       "\n",
       "    .dataframe tbody tr th {\n",
       "        vertical-align: top;\n",
       "    }\n",
       "\n",
       "    .dataframe thead th {\n",
       "        text-align: right;\n",
       "    }\n",
       "</style>\n",
       "<table border=\"1\" class=\"dataframe\">\n",
       "  <thead>\n",
       "    <tr style=\"text-align: right;\">\n",
       "      <th></th>\n",
       "      <th>aircraft</th>\n",
       "      <th>helicopter</th>\n",
       "      <th>tank</th>\n",
       "      <th>APC</th>\n",
       "      <th>field artillery</th>\n",
       "      <th>MRL</th>\n",
       "      <th>drone</th>\n",
       "      <th>naval ship</th>\n",
       "      <th>anti-aircraft warfare</th>\n",
       "      <th>total losses</th>\n",
       "    </tr>\n",
       "    <tr>\n",
       "      <th>date</th>\n",
       "      <th></th>\n",
       "      <th></th>\n",
       "      <th></th>\n",
       "      <th></th>\n",
       "      <th></th>\n",
       "      <th></th>\n",
       "      <th></th>\n",
       "      <th></th>\n",
       "      <th></th>\n",
       "      <th></th>\n",
       "    </tr>\n",
       "  </thead>\n",
       "  <tbody>\n",
       "    <tr>\n",
       "      <th>2022-02-25</th>\n",
       "      <td>10</td>\n",
       "      <td>7</td>\n",
       "      <td>80</td>\n",
       "      <td>516</td>\n",
       "      <td>49</td>\n",
       "      <td>4</td>\n",
       "      <td>0</td>\n",
       "      <td>2</td>\n",
       "      <td>0</td>\n",
       "      <td>668</td>\n",
       "    </tr>\n",
       "    <tr>\n",
       "      <th>2022-02-26</th>\n",
       "      <td>17</td>\n",
       "      <td>19</td>\n",
       "      <td>66</td>\n",
       "      <td>190</td>\n",
       "      <td>0</td>\n",
       "      <td>0</td>\n",
       "      <td>2</td>\n",
       "      <td>0</td>\n",
       "      <td>0</td>\n",
       "      <td>294</td>\n",
       "    </tr>\n",
       "    <tr>\n",
       "      <th>2022-02-27</th>\n",
       "      <td>0</td>\n",
       "      <td>0</td>\n",
       "      <td>4</td>\n",
       "      <td>0</td>\n",
       "      <td>1</td>\n",
       "      <td>0</td>\n",
       "      <td>0</td>\n",
       "      <td>0</td>\n",
       "      <td>0</td>\n",
       "      <td>5</td>\n",
       "    </tr>\n",
       "    <tr>\n",
       "      <th>2022-02-28</th>\n",
       "      <td>2</td>\n",
       "      <td>3</td>\n",
       "      <td>0</td>\n",
       "      <td>110</td>\n",
       "      <td>24</td>\n",
       "      <td>17</td>\n",
       "      <td>1</td>\n",
       "      <td>0</td>\n",
       "      <td>5</td>\n",
       "      <td>162</td>\n",
       "    </tr>\n",
       "    <tr>\n",
       "      <th>2022-03-01</th>\n",
       "      <td>0</td>\n",
       "      <td>0</td>\n",
       "      <td>48</td>\n",
       "      <td>30</td>\n",
       "      <td>3</td>\n",
       "      <td>3</td>\n",
       "      <td>0</td>\n",
       "      <td>0</td>\n",
       "      <td>2</td>\n",
       "      <td>86</td>\n",
       "    </tr>\n",
       "  </tbody>\n",
       "</table>\n",
       "</div>"
      ],
      "text/plain": [
       "            aircraft  helicopter  tank  APC  field artillery  MRL  drone  \\\n",
       "date                                                                       \n",
       "2022-02-25        10           7    80  516               49    4      0   \n",
       "2022-02-26        17          19    66  190                0    0      2   \n",
       "2022-02-27         0           0     4    0                1    0      0   \n",
       "2022-02-28         2           3     0  110               24   17      1   \n",
       "2022-03-01         0           0    48   30                3    3      0   \n",
       "\n",
       "            naval ship  anti-aircraft warfare  total losses  \n",
       "date                                                         \n",
       "2022-02-25           2                      0           668  \n",
       "2022-02-26           0                      0           294  \n",
       "2022-02-27           0                      0             5  \n",
       "2022-02-28           0                      5           162  \n",
       "2022-03-01           0                      2            86  "
      ]
     },
     "execution_count": 25,
     "metadata": {},
     "output_type": "execute_result"
    }
   ],
   "source": [
    "df_equipment.head()"
   ]
  },
  {
   "cell_type": "markdown",
   "metadata": {},
   "source": [
    "### df_tech (pérdidas materiales rusas, incluyendo modelo y fabricante, sin fecha)"
   ]
  },
  {
   "cell_type": "markdown",
   "metadata": {},
   "source": [
    "- Importo el dataframe y veo que hay nulos en cantidades industriales"
   ]
  },
  {
   "cell_type": "code",
   "execution_count": 26,
   "metadata": {},
   "outputs": [
    {
     "name": "stdout",
     "output_type": "stream",
     "text": [
      "<class 'pandas.core.frame.DataFrame'>\n",
      "RangeIndex: 298 entries, 0 to 297\n",
      "Data columns (total 19 columns):\n",
      " #   Column                                       Non-Null Count  Dtype  \n",
      "---  ------                                       --------------  -----  \n",
      " 0   equipment                                    298 non-null    object \n",
      " 1   model                                        298 non-null    object \n",
      " 2   sub_model                                    8 non-null      object \n",
      " 3   manufacturer                                 298 non-null    object \n",
      " 4   losses_total                                 298 non-null    int64  \n",
      " 5   abandoned                                    77 non-null     float64\n",
      " 6   abandoned and destroyed                      17 non-null     float64\n",
      " 7   captured                                     196 non-null    float64\n",
      " 8   captured and destroyed                       7 non-null      float64\n",
      " 9   captured and stripped                        4 non-null      float64\n",
      " 10  damaged                                      56 non-null     float64\n",
      " 11  damaged and abandoned                        26 non-null     float64\n",
      " 12  damaged and captured                         61 non-null     float64\n",
      " 13  damaged beyond economical repair             3 non-null      float64\n",
      " 14  damaged by Bayraktar TB2                     3 non-null      float64\n",
      " 15  destroyed                                    238 non-null    float64\n",
      " 16  destroyed by Bayraktar TB2                   32 non-null     float64\n",
      " 17  destroyed by Bayraktar TB2 and Harpoon AShM  1 non-null      float64\n",
      " 18  sunk                                         1 non-null      float64\n",
      "dtypes: float64(14), int64(1), object(4)\n",
      "memory usage: 44.4+ KB\n"
     ]
    }
   ],
   "source": [
    "df_tech = pd.read_csv(r'.\\data\\Russia_losses_equipment(tech_details).csv')\n",
    "\n",
    "df_tech.info()\n"
   ]
  },
  {
   "cell_type": "markdown",
   "metadata": {},
   "source": [
    "Compruebo cuántos nulos hay en total"
   ]
  },
  {
   "cell_type": "code",
   "execution_count": 27,
   "metadata": {},
   "outputs": [
    {
     "data": {
      "text/plain": [
       "3740"
      ]
     },
     "execution_count": 27,
     "metadata": {},
     "output_type": "execute_result"
    }
   ],
   "source": [
    "df_tech.isnull().sum().sum()\n"
   ]
  },
  {
   "cell_type": "markdown",
   "metadata": {},
   "source": [
    "- Son muchos. Ahora bien, ¿cuántos de esos nulos son, en realidad, ceros (porque ha habido 0 bajas de ese tipo para tal pieza de equipamiento)? La manera de saberlo es fijarse en la columna \"losses_total\"; el total de bajas para cada pieza debería ser una suma de las destruidas y las capturadas. Si se queda corto, es que faltan datos\n",
    "- Empiezo por cambiar los NaN por 0\n",
    "- Sumo los capturados y los pongo en una nueva columna, y hago lo propio con el resto de bajas\n",
    "- Limito el dataframe a las columnas que he creado y a las especificaciones del equipamiento (excepto \"sub_model\", que es innecesaria para la hipótesis)"
   ]
  },
  {
   "cell_type": "code",
   "execution_count": 28,
   "metadata": {},
   "outputs": [],
   "source": [
    "df_tech.fillna(0.0, inplace=True)\n",
    "\n",
    "df_tech['total captured'] = df_tech[['captured', \n",
    "                                    'captured and destroyed',\n",
    "                                    'captured and stripped',\n",
    "                                    'damaged and captured'\n",
    "                                    ]].sum(axis=1)\n",
    "\n",
    "df_tech['total not captured'] = df_tech[['abandoned', \n",
    "                                        'abandoned and destroyed',\n",
    "                                        'damaged',\n",
    "                                        'damaged and abandoned',\n",
    "                                        'damaged beyond economical repair',\n",
    "                                        'damaged by Bayraktar TB2',\n",
    "                                        'destroyed',\n",
    "                                        'destroyed by Bayraktar TB2',\n",
    "                                        'destroyed by Bayraktar TB2 and Harpoon AShM',\n",
    "                                        'sunk'\n",
    "                                        ]].sum(axis=1)\n",
    "\n",
    "df_tech = df_tech[['equipment','model', 'manufacturer', 'losses_total', 'total captured', 'total not captured']]\n"
   ]
  },
  {
   "cell_type": "markdown",
   "metadata": {},
   "source": [
    "- Hago la comprobación. Parece que el total de pérdidas coincide con la suma de las partes para cada pieza de equipo. Por ende, no faltan datos a pesar de que hay multitud de nulos"
   ]
  },
  {
   "cell_type": "code",
   "execution_count": 29,
   "metadata": {},
   "outputs": [
    {
     "data": {
      "text/plain": [
       "True"
      ]
     },
     "execution_count": 29,
     "metadata": {},
     "output_type": "execute_result"
    }
   ],
   "source": [
    "all(df_tech['losses_total']) == all(df_tech['total captured'] + df_tech['total not captured'])\n"
   ]
  },
  {
   "cell_type": "markdown",
   "metadata": {},
   "source": [
    "- Resultado"
   ]
  },
  {
   "cell_type": "code",
   "execution_count": 30,
   "metadata": {},
   "outputs": [
    {
     "data": {
      "text/html": [
       "<div>\n",
       "<style scoped>\n",
       "    .dataframe tbody tr th:only-of-type {\n",
       "        vertical-align: middle;\n",
       "    }\n",
       "\n",
       "    .dataframe tbody tr th {\n",
       "        vertical-align: top;\n",
       "    }\n",
       "\n",
       "    .dataframe thead th {\n",
       "        text-align: right;\n",
       "    }\n",
       "</style>\n",
       "<table border=\"1\" class=\"dataframe\">\n",
       "  <thead>\n",
       "    <tr style=\"text-align: right;\">\n",
       "      <th></th>\n",
       "      <th>equipment</th>\n",
       "      <th>model</th>\n",
       "      <th>manufacturer</th>\n",
       "      <th>losses_total</th>\n",
       "      <th>total captured</th>\n",
       "      <th>total not captured</th>\n",
       "    </tr>\n",
       "  </thead>\n",
       "  <tbody>\n",
       "    <tr>\n",
       "      <th>0</th>\n",
       "      <td>Tanks</td>\n",
       "      <td>T-62M</td>\n",
       "      <td>the Soviet Union</td>\n",
       "      <td>20</td>\n",
       "      <td>16.0</td>\n",
       "      <td>4.0</td>\n",
       "    </tr>\n",
       "    <tr>\n",
       "      <th>1</th>\n",
       "      <td>Tanks</td>\n",
       "      <td>T-62MV</td>\n",
       "      <td>the Soviet Union</td>\n",
       "      <td>3</td>\n",
       "      <td>2.0</td>\n",
       "      <td>1.0</td>\n",
       "    </tr>\n",
       "    <tr>\n",
       "      <th>2</th>\n",
       "      <td>Tanks</td>\n",
       "      <td>T-64A</td>\n",
       "      <td>the Soviet Union</td>\n",
       "      <td>2</td>\n",
       "      <td>0.0</td>\n",
       "      <td>2.0</td>\n",
       "    </tr>\n",
       "    <tr>\n",
       "      <th>3</th>\n",
       "      <td>Tanks</td>\n",
       "      <td>T-64BV</td>\n",
       "      <td>the Soviet Union</td>\n",
       "      <td>39</td>\n",
       "      <td>5.0</td>\n",
       "      <td>34.0</td>\n",
       "    </tr>\n",
       "    <tr>\n",
       "      <th>4</th>\n",
       "      <td>Tanks</td>\n",
       "      <td>T-72A</td>\n",
       "      <td>the Soviet Union</td>\n",
       "      <td>33</td>\n",
       "      <td>15.0</td>\n",
       "      <td>18.0</td>\n",
       "    </tr>\n",
       "  </tbody>\n",
       "</table>\n",
       "</div>"
      ],
      "text/plain": [
       "  equipment   model      manufacturer  losses_total  total captured  \\\n",
       "0     Tanks   T-62M  the Soviet Union            20            16.0   \n",
       "1     Tanks  T-62MV  the Soviet Union             3             2.0   \n",
       "2     Tanks   T-64A  the Soviet Union             2             0.0   \n",
       "3     Tanks  T-64BV  the Soviet Union            39             5.0   \n",
       "4     Tanks   T-72A  the Soviet Union            33            15.0   \n",
       "\n",
       "   total not captured  \n",
       "0                 4.0  \n",
       "1                 1.0  \n",
       "2                 2.0  \n",
       "3                34.0  \n",
       "4                18.0  "
      ]
     },
     "execution_count": 30,
     "metadata": {},
     "output_type": "execute_result"
    }
   ],
   "source": [
    "df_tech.head()\n"
   ]
  },
  {
   "cell_type": "markdown",
   "metadata": {},
   "source": [
    "### df_uk_tech (pérdidas materiales ucranianas, incluyendo modelo y fabricante, sin fecha)"
   ]
  },
  {
   "cell_type": "markdown",
   "metadata": {},
   "source": [
    "- Este dataframe es idéntico al anterior, pero con pérdidas ucranianas. Por tanto, el tratamiento es el mismo"
   ]
  },
  {
   "cell_type": "code",
   "execution_count": 31,
   "metadata": {},
   "outputs": [],
   "source": [
    "df_uk_tech = pd.read_csv(r'.\\data\\Ukraine_losses_equipment(tech_details).csv')\n",
    "\n",
    "df_uk_tech['total captured'] = df_uk_tech[['captured', \n",
    "                                            'captured and destroyed',\n",
    "                                            'damaged and captured',\n",
    "                                            'damaged by Orion and captured',\n",
    "                                            'sunk but raised by Russia'\n",
    "                                            ]].sum(axis=1)\n",
    "\n",
    "df_uk_tech['total not captured'] = df_uk_tech[['abandoned', \n",
    "                                                'abandoned and destroyed',\n",
    "                                                'damaged',\n",
    "                                                'damaged and abandoned',\n",
    "                                                'damaged beyond economical repair',\n",
    "                                                'damaged by Forpost-R',\n",
    "                                                'destroyed',\n",
    "                                                'destroyed by Forpost-R',\n",
    "                                                'destroyed by Orion',\n",
    "                                                'destroyed by loitering munition',\n",
    "                                                'scuttled to prevent capture by Russia',\n",
    "                                                'sunk'\n",
    "                                                ]].sum(axis=1)\n",
    "\n",
    "df_uk_tech = df_uk_tech[['equipment','model', 'manufacturer', 'losses_total', 'total captured', 'total not captured']]\n"
   ]
  },
  {
   "cell_type": "markdown",
   "metadata": {},
   "source": [
    "Por si las moscas, hago la comprobación"
   ]
  },
  {
   "cell_type": "code",
   "execution_count": 32,
   "metadata": {},
   "outputs": [
    {
     "data": {
      "text/plain": [
       "True"
      ]
     },
     "execution_count": 32,
     "metadata": {},
     "output_type": "execute_result"
    }
   ],
   "source": [
    "all(df_uk_tech['losses_total']) == all(df_uk_tech['total captured'] + df_uk_tech['total not captured'])\n"
   ]
  },
  {
   "cell_type": "markdown",
   "metadata": {},
   "source": [
    "- Resultado"
   ]
  },
  {
   "cell_type": "code",
   "execution_count": 33,
   "metadata": {},
   "outputs": [
    {
     "data": {
      "text/html": [
       "<div>\n",
       "<style scoped>\n",
       "    .dataframe tbody tr th:only-of-type {\n",
       "        vertical-align: middle;\n",
       "    }\n",
       "\n",
       "    .dataframe tbody tr th {\n",
       "        vertical-align: top;\n",
       "    }\n",
       "\n",
       "    .dataframe thead th {\n",
       "        text-align: right;\n",
       "    }\n",
       "</style>\n",
       "<table border=\"1\" class=\"dataframe\">\n",
       "  <thead>\n",
       "    <tr style=\"text-align: right;\">\n",
       "      <th></th>\n",
       "      <th>equipment</th>\n",
       "      <th>model</th>\n",
       "      <th>manufacturer</th>\n",
       "      <th>losses_total</th>\n",
       "      <th>total captured</th>\n",
       "      <th>total not captured</th>\n",
       "    </tr>\n",
       "  </thead>\n",
       "  <tbody>\n",
       "    <tr>\n",
       "      <th>0</th>\n",
       "      <td>Tanks</td>\n",
       "      <td>T-64A</td>\n",
       "      <td>the Soviet Union</td>\n",
       "      <td>1</td>\n",
       "      <td>1.0</td>\n",
       "      <td>0.0</td>\n",
       "    </tr>\n",
       "    <tr>\n",
       "      <th>1</th>\n",
       "      <td>Tanks</td>\n",
       "      <td>T-64B</td>\n",
       "      <td>the Soviet Union</td>\n",
       "      <td>1</td>\n",
       "      <td>0.0</td>\n",
       "      <td>1.0</td>\n",
       "    </tr>\n",
       "    <tr>\n",
       "      <th>2</th>\n",
       "      <td>Tanks</td>\n",
       "      <td>T-64BV</td>\n",
       "      <td>the Soviet Union</td>\n",
       "      <td>123</td>\n",
       "      <td>53.0</td>\n",
       "      <td>70.0</td>\n",
       "    </tr>\n",
       "    <tr>\n",
       "      <th>3</th>\n",
       "      <td>Tanks</td>\n",
       "      <td>T-64BV Zr. 2017</td>\n",
       "      <td>Ukraine</td>\n",
       "      <td>49</td>\n",
       "      <td>27.0</td>\n",
       "      <td>22.0</td>\n",
       "    </tr>\n",
       "    <tr>\n",
       "      <th>4</th>\n",
       "      <td>Tanks</td>\n",
       "      <td>T-64B1M</td>\n",
       "      <td>Ukraine</td>\n",
       "      <td>4</td>\n",
       "      <td>4.0</td>\n",
       "      <td>0.0</td>\n",
       "    </tr>\n",
       "  </tbody>\n",
       "</table>\n",
       "</div>"
      ],
      "text/plain": [
       "  equipment            model      manufacturer  losses_total  total captured  \\\n",
       "0     Tanks            T-64A  the Soviet Union             1             1.0   \n",
       "1     Tanks            T-64B  the Soviet Union             1             0.0   \n",
       "2     Tanks           T-64BV  the Soviet Union           123            53.0   \n",
       "3     Tanks  T-64BV Zr. 2017           Ukraine            49            27.0   \n",
       "4     Tanks          T-64B1M           Ukraine             4             4.0   \n",
       "\n",
       "   total not captured  \n",
       "0                 0.0  \n",
       "1                 1.0  \n",
       "2                70.0  \n",
       "3                22.0  \n",
       "4                 0.0  "
      ]
     },
     "execution_count": 33,
     "metadata": {},
     "output_type": "execute_result"
    }
   ],
   "source": [
    "df_uk_tech.head()\n"
   ]
  }
 ],
 "metadata": {
  "kernelspec": {
   "display_name": "Python 3.9.13 ('data_analytics')",
   "language": "python",
   "name": "python3"
  },
  "language_info": {
   "codemirror_mode": {
    "name": "ipython",
    "version": 3
   },
   "file_extension": ".py",
   "mimetype": "text/x-python",
   "name": "python",
   "nbconvert_exporter": "python",
   "pygments_lexer": "ipython3",
   "version": "3.9.13"
  },
  "orig_nbformat": 4,
  "vscode": {
   "interpreter": {
    "hash": "b824bf52cf534a16238dce884e8fdba8cd1853727e048048d6b0b37b0d718f27"
   }
  }
 },
 "nbformat": 4,
 "nbformat_minor": 2
}
