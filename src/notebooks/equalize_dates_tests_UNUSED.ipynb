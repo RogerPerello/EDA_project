{
 "cells": [
  {
   "cell_type": "code",
   "execution_count": 1,
   "metadata": {},
   "outputs": [
    {
     "name": "stdout",
     "output_type": "stream",
     "text": [
      "importing Jupyter notebook from clean_tests.ipynb\n"
     ]
    }
   ],
   "source": [
    "import import_ipynb\n",
    "from clean_tests import df_prices, df_equipment, df_personnel, df_refugees"
   ]
  },
  {
   "attachments": {},
   "cell_type": "markdown",
   "metadata": {},
   "source": [
    "# USED ONLY FOR TESTING"
   ]
  },
  {
   "cell_type": "code",
   "execution_count": 2,
   "metadata": {},
   "outputs": [],
   "source": [
    "# Checks optimal index range:\n",
    "def return_optimal_datetime(dataframes):\n",
    "    '''Requires a list of dataframes, all with a datetime index, as a positional argument'''\n",
    "    '''Used by equalize_indexes() in merge_functions.py'''\n",
    "    lower_index = max([min(dataframe.index) for dataframe in dataframes])\n",
    "    upper_index = min([max(dataframe.index) for dataframe in dataframes])\n",
    "    return (lower_index.to_pydatetime(), upper_index.to_pydatetime())\n"
   ]
  },
  {
   "cell_type": "code",
   "execution_count": 3,
   "metadata": {},
   "outputs": [],
   "source": [
    "# Applies range to a datetime index according to a minimum and a maximum datetimes\n",
    "def set_datetime_range(dataframe, min, max):\n",
    "    '''Requires three positional arguments: a list of dataframes with an index of datetime type, and two datetimes'''\n",
    "    '''Used by equalize_indexes() in merge_functions.py'''\n",
    "    dataframe_list = []\n",
    "    for df in dataframe:\n",
    "        df = df[df.index >= min]\n",
    "        df = df[df.index <= max]\n",
    "        dataframe_list.append(df)\n",
    "    return dataframe_list\n"
   ]
  },
  {
   "cell_type": "code",
   "execution_count": 4,
   "metadata": {},
   "outputs": [],
   "source": [
    "# Repeatedly checks and applies optimal index until all dataframes have the same size\n",
    "def equalize_indexes(dataframes):\n",
    "    '''Requires a list of dataframes with an index of datetime type as a positional argument'''\n",
    "    '''Uses return_optimal_datetime() and set_datetime_range() from merge_functions.py'''\n",
    "    current_max, current_min = 'any word', 'any word'\n",
    "    while len(current_max) > 1 or len(current_min) > 1:\n",
    "        min_date, max_date = return_optimal_datetime(dataframes)\n",
    "        dataframes = set_datetime_range(dataframes, min_date, max_date)\n",
    "        current_max = set([max(dataframe.index) for dataframe in dataframes])\n",
    "        current_min = set([min(dataframe.index) for dataframe in dataframes])\n",
    "    return dataframes\n",
    "\n",
    "\n",
    "df_hypothesis_1_1 = [df_prices, df_equipment, df_personnel]\n",
    "\n",
    "df_prices, df_equipment, df_personnel = equalize_indexes(df_hypothesis_1_1)\n"
   ]
  },
  {
   "cell_type": "code",
   "execution_count": 5,
   "metadata": {},
   "outputs": [
    {
     "data": {
      "text/plain": [
       "True"
      ]
     },
     "execution_count": 5,
     "metadata": {},
     "output_type": "execute_result"
    }
   ],
   "source": [
    "(df_prices.index[0] == df_personnel.index[0] == df_equipment.index[0]) and (df_prices.index[-1] == df_personnel.index[-1] == df_equipment.index[-1])\n"
   ]
  }
 ],
 "metadata": {
  "kernelspec": {
   "display_name": "Python 3.9.13 ('data_analytics')",
   "language": "python",
   "name": "python3"
  },
  "language_info": {
   "codemirror_mode": {
    "name": "ipython",
    "version": 3
   },
   "file_extension": ".py",
   "mimetype": "text/x-python",
   "name": "python",
   "nbconvert_exporter": "python",
   "pygments_lexer": "ipython3",
   "version": "3.9.13"
  },
  "orig_nbformat": 4,
  "vscode": {
   "interpreter": {
    "hash": "b824bf52cf534a16238dce884e8fdba8cd1853727e048048d6b0b37b0d718f27"
   }
  }
 },
 "nbformat": 4,
 "nbformat_minor": 2
}
