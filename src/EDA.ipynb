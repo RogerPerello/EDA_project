{
 "cells": [],
 "metadata": {
  "kernelspec": {
   "display_name": "Python 3.7.4 64-bit",
   "language": "python",
   "name": "python3"
  },
  "language_info": {
   "name": "python",
   "version": "3.7.4"
  },
  "orig_nbformat": 4,
  "vscode": {
   "interpreter": {
    "hash": "1349c2eec15c29feaf507d4b82e6aa346ab3bfca85254787842cdd9767f55773"
   }
  }
 },
 "nbformat": 4,
 "nbformat_minor": 2
}
