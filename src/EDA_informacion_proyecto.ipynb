{
 "cells": [
  {
   "cell_type": "markdown",
   "metadata": {},
   "source": [
    "## INFORMACIÓN DEL PROYECTO"
   ]
  },
  {
   "cell_type": "markdown",
   "metadata": {},
   "source": [
    "### TÍTULO"
   ]
  },
  {
   "cell_type": "markdown",
   "metadata": {},
   "source": [
    "La guerra de Ucrania: precios, bajas y movimiento de refugiados\n"
   ]
  },
  {
   "cell_type": "markdown",
   "metadata": {},
   "source": [
    "### TEMA"
   ]
  },
  {
   "cell_type": "markdown",
   "metadata": {},
   "source": [
    "Una comparativa de 6 datasets de tamaños variables sobre diversos aspectos de la guerra de Ucrania que tienen que ver con las pérdidas (sobre todo, las rusas, de las que hay más datos disponibles), los refugiados y los precios en los puestos locales. El nexo de la mayoría son las fechas. Las hipótesis son:"
   ]
  },
  {
   "cell_type": "markdown",
   "metadata": {},
   "source": [
    "1) Se espera que los precios en Ucrania oscilen en función del número de refugiados que huyen del país y de la cercanía al frente de los puestos de venta. Asimismo, un peor rendimiento por parte del bando ruso debería animar a los proveedores a vender en el país y aumentar la oferta\n",
    "\n",
    "(Más refugiados, mayor lejanía del frente o más pérdidas rusas = precios más bajos)\n",
    "\n",
    "2) Con el paso del tiempo, aumentan las pérdidas materiales rusas y se reducen las pérdidas humanas. Ello puede ser indicativo de una creciente preocupación de la administración rusa por la opinión pública, con lo que, entre otras cosas, usa más drones o artillería y menos tropas terrestres para minimizar la cuenta de bajas\n",
    "\n",
    "(Uso mayor de tropas mecanizadas = uso reducido de soldados rasos = más pérdidas materiales y menos muertos)\n",
    "\n",
    "3) Los ejércitos ruso y ucraniano todavía se sirven de mucho material de la Unión Soviética, que, en comparación con el equipamiento moderno, tiende a ser capturado o destruido con mayor frecuencia\n",
    "\n",
    "(Uso de material soviético = más destrucciones y más capturas)"
   ]
  },
  {
   "cell_type": "markdown",
   "metadata": {},
   "source": [
    "### OBTENCIÓN DE LOS DATOS"
   ]
  },
  {
   "cell_type": "markdown",
   "metadata": {},
   "source": [
    "Acumulativo de refugiados ucranianos por fecha y destino (fuente original: API sobre actualizaciones de la guerra de RapidAPI):\n",
    "https://www.kaggle.com/datasets/anuragbantu/ukraine-invasion-refugee-data-2022\n",
    "\n",
    "Precios en cada mercado de Ucrania por fecha, tipo y geolocalización (fuente original: Centre for Humanitarian Data de la Oficina de Naciones Unidas para la Coordinación de Asuntos Humanitarios):\n",
    "https://data.humdata.org/dataset/wfp-food-prices-for-ukraine\n",
    "\n",
    "Pérdidas rusas personales por fecha (fuente original: múltiples, ver en Kaggle; entre ellas, el Ejército y el Ministerio de Defensa del Ucrania):\n",
    "https://www.kaggle.com/datasets/piterfm/2022-ukraine-russian-war\n",
    "\n",
    "Pérdidas rusas materiales, según categorías generales, por fecha (fuente original: es el mismo Kaggle que el anterior):\n",
    "https://www.kaggle.com/datasets/piterfm/2022-ukraine-russian-war\n",
    "\n",
    "Pérdidas materiales rusas, incluyendo modelo y fabricante, sin fecha (fuente original: Oryxspioenkop, web alemana de análisis datos de defensa de código abierto e investigación sobre la guerra):\n",
    "https://www.kaggle.com/datasets/piterfm/2022-ukraine-russia-war-equipment-losses-oryx\n",
    "\n",
    "Pérdidas materiales ucranianas, incluyendo modelo y fabricante, sin fecha (fuente original: es el mismo Kaggle que el anterior):\n",
    "https://www.kaggle.com/datasets/piterfm/2022-ukraine-russia-war-equipment-losses-oryx\n"
   ]
  }
 ],
 "metadata": {
  "kernelspec": {
   "display_name": "Python 3.9.13 ('data_analytics')",
   "language": "python",
   "name": "python3"
  },
  "language_info": {
   "codemirror_mode": {
    "name": "ipython",
    "version": 3
   },
   "file_extension": ".py",
   "mimetype": "text/x-python",
   "name": "python",
   "nbconvert_exporter": "python",
   "pygments_lexer": "ipython3",
   "version": "3.9.13"
  },
  "orig_nbformat": 4,
  "vscode": {
   "interpreter": {
    "hash": "b824bf52cf534a16238dce884e8fdba8cd1853727e048048d6b0b37b0d718f27"
   }
  }
 },
 "nbformat": 4,
 "nbformat_minor": 2
}
